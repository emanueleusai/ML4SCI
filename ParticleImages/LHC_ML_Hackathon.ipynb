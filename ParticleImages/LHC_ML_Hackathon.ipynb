{
  "nbformat": 4,
  "nbformat_minor": 0,
  "metadata": {
    "colab": {
      "name": "LHC-ML-Hackathon.ipynb",
      "provenance": [],
      "collapsed_sections": [],
      "toc_visible": true
    },
    "kernelspec": {
      "name": "python3",
      "display_name": "Python 3"
    },
    "accelerator": "GPU"
  },
  "cells": [
    {
      "cell_type": "markdown",
      "metadata": {
        "id": "Lv2HwpmXXW6q"
      },
      "source": [
        "[![Open In Colab](https://colab.research.google.com/assets/colab-badge.svg)](https://colab.research.google.com/drive/1UjgXgaYon3KKEPWnOXp5BUZgdsA2re9p?usp=sharing)"
      ]
    },
    {
      "cell_type": "code",
      "metadata": {
        "id": "OYRULwKaw_A6",
        "outputId": "6da0480d-6638-44a5-9cc0-353b08704ead",
        "colab": {
          "base_uri": "https://localhost:8080/",
          "height": 34
        }
      },
      "source": [
        "cd drive/My Drive/google_colab_gpu/LHC_ML_Hackathon"
      ],
      "execution_count": null,
      "outputs": [
        {
          "output_type": "stream",
          "text": [
            "/content/drive/My Drive/google_colab_gpu/LHC_ML_Hackathon\n"
          ],
          "name": "stdout"
        }
      ]
    },
    {
      "cell_type": "code",
      "metadata": {
        "id": "BQGKM10j2CiQ"
      },
      "source": [
        "mkdir data/"
      ],
      "execution_count": null,
      "outputs": []
    },
    {
      "cell_type": "markdown",
      "metadata": {
        "id": "PEtRyfNv9XVn"
      },
      "source": [
        "# Download the Dataset"
      ]
    },
    {
      "cell_type": "code",
      "metadata": {
        "id": "rcK1wY4Qt_7Y",
        "outputId": "6a1336dd-7dba-4951-9b00-8284a8120eac",
        "colab": {
          "base_uri": "https://localhost:8080/",
          "height": 425
        }
      },
      "source": [
        "#!/bin/bash\n",
        "!wget https://cernbox.cern.ch/index.php/s/8k2tTR4ejl0Qwep/download -O data/SingleElectronPt50_IMGCROPS_n249k_RHv1.hdf5\n",
        "!wget https://cernbox.cern.ch/index.php/s/yEww0Z9U9A4L70S/download -O data/SinglePhotonPt50_IMGCROPS_n249k_RHv1.hdf5"
      ],
      "execution_count": null,
      "outputs": [
        {
          "output_type": "stream",
          "text": [
            "--2020-10-06 07:38:29--  https://cernbox.cern.ch/index.php/s/8k2tTR4ejl0Qwep/download\n",
            "Resolving cernbox.cern.ch (cernbox.cern.ch)... 188.184.97.72, 137.138.120.151, 128.142.32.26, ...\n",
            "Connecting to cernbox.cern.ch (cernbox.cern.ch)|188.184.97.72|:443... connected.\n",
            "HTTP request sent, awaiting response... 200 OK\n",
            "Length: 128927319 (123M) [application/octet-stream]\n",
            "Saving to: ‘data/SingleElectronPt50_IMGCROPS_n249k_RHv1.hdf5’\n",
            "\n",
            "data/SingleElectron 100%[===================>] 122.95M  21.3MB/s    in 7.0s    \n",
            "\n",
            "Last-modified header invalid -- time-stamp ignored.\n",
            "2020-10-06 07:38:38 (17.6 MB/s) - ‘data/SingleElectronPt50_IMGCROPS_n249k_RHv1.hdf5’ saved [128927319/128927319]\n",
            "\n",
            "--2020-10-06 07:38:38--  https://cernbox.cern.ch/index.php/s/yEww0Z9U9A4L70S/download\n",
            "Resolving cernbox.cern.ch (cernbox.cern.ch)... 188.184.97.72, 137.138.120.151, 128.142.32.26, ...\n",
            "Connecting to cernbox.cern.ch (cernbox.cern.ch)|188.184.97.72|:443... connected.\n",
            "HTTP request sent, awaiting response... 200 OK\n",
            "Length: 119703858 (114M) [application/octet-stream]\n",
            "Saving to: ‘data/SinglePhotonPt50_IMGCROPS_n249k_RHv1.hdf5’\n",
            "\n",
            "data/SinglePhotonPt 100%[===================>] 114.16M  14.7MB/s    in 8.2s    \n",
            "\n",
            "Last-modified header invalid -- time-stamp ignored.\n",
            "2020-10-06 07:38:47 (13.9 MB/s) - ‘data/SinglePhotonPt50_IMGCROPS_n249k_RHv1.hdf5’ saved [119703858/119703858]\n",
            "\n"
          ],
          "name": "stdout"
        }
      ]
    },
    {
      "cell_type": "markdown",
      "metadata": {
        "id": "BepRE7pn8Du7"
      },
      "source": [
        "# Import modules"
      ]
    },
    {
      "cell_type": "code",
      "metadata": {
        "id": "ZnLzC5paz0hb"
      },
      "source": [
        "import numpy as np\n",
        "np.random.seed(1337)  # for reproducibility\n",
        "import h5py\n",
        "from keras.models import Sequential\n",
        "from keras.optimizers import Adam\n",
        "from keras.initializers import TruncatedNormal\n",
        "from keras.layers import Input, Dense, Dropout, Flatten, Conv2D, MaxPooling2D\n",
        "from keras.callbacks import ReduceLROnPlateau\n",
        "\n",
        "from sklearn.metrics import roc_curve, auc\n",
        "\n",
        "import matplotlib.pyplot as plt"
      ],
      "execution_count": null,
      "outputs": []
    },
    {
      "cell_type": "markdown",
      "metadata": {
        "id": "Az_MoJwZ8K6l"
      },
      "source": [
        "# Keras Model Parameters"
      ]
    },
    {
      "cell_type": "code",
      "metadata": {
        "id": "ZzF8AHl_4yUA"
      },
      "source": [
        "lr_init     = 1.e-3    # Initial learning rate  \n",
        "batch_size  = 64       # Training batch size\n",
        "train_size  = 1024     # Training size\n",
        "valid_size  = 1024     # Validation size\n",
        "test_size   = 1024     # Test size\n",
        "epochs      = 20       # Number of epochs\n",
        "doGPU       = False    # Use GPU"
      ],
      "execution_count": null,
      "outputs": []
    },
    {
      "cell_type": "code",
      "metadata": {
        "id": "PVq1XGr640nJ"
      },
      "source": [
        "if doGPU:\n",
        "    import tensorflow as tf\n",
        "    from keras.backend.tensorflow_backend import set_session\n",
        "    config = tf.ConfigProto()\n",
        "    config.gpu_options.allow_growth=True\n",
        "    set_session(tf.Session(config=config))"
      ],
      "execution_count": null,
      "outputs": []
    },
    {
      "cell_type": "markdown",
      "metadata": {
        "id": "xwc56kXJ8TLo"
      },
      "source": [
        "# Load Image Data\n",
        "## Two classes of particles: electrons and photons\n",
        "## Images from 32x32 matrices of energies in each calorimeter cell (one cell = one pixel)"
      ]
    },
    {
      "cell_type": "code",
      "metadata": {
        "id": "kr4QIMlt424u"
      },
      "source": [
        "img_rows, img_cols, nb_channels = 32, 32, 2        \n",
        "input_dir = 'data'\n",
        "decays = ['SinglePhotonPt50_IMGCROPS_n249k_RHv1', 'SingleElectronPt50_IMGCROPS_n249k_RHv1']\n",
        "\n",
        "def load_data(decays, start, stop):\n",
        "    global input_dir\n",
        "    dsets = [h5py.File('%s/%s.hdf5'%(input_dir,decay)) for decay in decays]\n",
        "    X = np.concatenate([dset['/X'][start:stop] for dset in dsets])\n",
        "    y = np.concatenate([dset['/y'][start:stop] for dset in dsets])\n",
        "    assert len(X) == len(y)\n",
        "    return X, y"
      ],
      "execution_count": null,
      "outputs": []
    },
    {
      "cell_type": "markdown",
      "metadata": {
        "id": "-JpHCOf38fDL"
      },
      "source": [
        "# Configure Training / Validation / Test Sets"
      ]
    },
    {
      "cell_type": "code",
      "metadata": {
        "id": "-RTXS58x46Fq",
        "outputId": "331631ed-83c3-4913-8968-99772f74369f",
        "colab": {
          "base_uri": "https://localhost:8080/",
          "height": 71
        }
      },
      "source": [
        "# Set range of training set\n",
        "train_start, train_stop = 0, train_size\n",
        "assert train_stop > train_start\n",
        "assert (len(decays)*train_size) % batch_size == 0\n",
        "X_train, y_train = load_data(decays,train_start,train_stop)\n",
        "\n",
        "# Set range of validation set\n",
        "valid_start, valid_stop = 160000, 160000+valid_size\n",
        "assert valid_stop  >  valid_start\n",
        "assert valid_start >= train_stop\n",
        "X_valid, y_valid = load_data(decays,valid_start,valid_stop)\n",
        "\n",
        "# Set range of test set\n",
        "test_start, test_stop = 204800, 204800+test_size\n",
        "assert test_stop  >  test_start\n",
        "assert test_start >= valid_stop\n",
        "X_test, y_test = load_data(decays,test_start,test_stop)\n",
        "\n",
        "samples_requested = len(decays) * (train_size + valid_size + test_size)\n",
        "samples_available = len(y_train) + len(y_valid) + len(y_test)\n",
        "assert samples_requested == samples_available"
      ],
      "execution_count": null,
      "outputs": [
        {
          "output_type": "stream",
          "text": [
            "/usr/local/lib/python3.6/dist-packages/ipykernel_launcher.py:7: H5pyDeprecationWarning: The default file mode will change to 'r' (read-only) in h5py 3.0. To suppress this warning, pass the mode you need to h5py.File(), or set the global default h5.get_config().default_file_mode, or set the environment variable H5PY_DEFAULT_READONLY=1. Available modes are: 'r', 'r+', 'w', 'w-'/'x', 'a'. See the docs for details.\n",
            "  import sys\n"
          ],
          "name": "stderr"
        }
      ]
    },
    {
      "cell_type": "markdown",
      "metadata": {
        "id": "UTFIMRnL8w41"
      },
      "source": [
        "# Plot sample of training images"
      ]
    },
    {
      "cell_type": "code",
      "metadata": {
        "id": "e_IDs16U52-C",
        "outputId": "bbb4bc4a-09e7-414e-a24e-58900082f7ea",
        "colab": {
          "base_uri": "https://localhost:8080/",
          "height": 163
        }
      },
      "source": [
        "plt.figure(1)\n",
        "\n",
        "plt.subplot(221)\n",
        "plt.imshow(X_train[1,:,:,0])\n",
        "plt.title(\"Channel 0\")  # Energy\n",
        "plt.grid(True)\n",
        "\n",
        "plt.subplot(222)\n",
        "plt.imshow(X_train[1,:,:,1])\n",
        "plt.title(\"Channel 1\")  # Time\n",
        "plt.grid(True)\n",
        "\n",
        "\n",
        "plt.show()"
      ],
      "execution_count": null,
      "outputs": [
        {
          "output_type": "display_data",
          "data": {
            "image/png": "[encoded data removed]",
            "text/plain": [
              "<Figure size 432x288 with 2 Axes>"
            ]
          },
          "metadata": {
            "tags": [],
            "needs_background": "light"
          }
        }
      ]
    },
    {
      "cell_type": "markdown",
      "metadata": {
        "id": "ke_NQLiz83jZ"
      },
      "source": [
        "# Define CNN Model"
      ]
    },
    {
      "cell_type": "code",
      "metadata": {
        "id": "OlIJuxXG7KDk",
        "outputId": "72f9afa5-4894-4e1f-8b84-8780ca54fe0e",
        "colab": {
          "base_uri": "https://localhost:8080/",
          "height": 561
        }
      },
      "source": [
        "### Define CNN Model ###\n",
        "\n",
        "model = Sequential()\n",
        "model.add(Conv2D(16, activation='relu', kernel_size=3, padding='same', kernel_initializer='TruncatedNormal', input_shape=(img_rows, img_cols, nb_channels)))\n",
        "model.add(Conv2D(16, activation='relu', kernel_size=3, padding='same', kernel_initializer='TruncatedNormal'))\n",
        "model.add(MaxPooling2D(pool_size=(2, 2)))\n",
        "model.add(Conv2D(32, activation='relu', kernel_size=3, padding='same', kernel_initializer='TruncatedNormal'))\n",
        "model.add(Conv2D(32, activation='relu', kernel_size=3, padding='same', kernel_initializer='TruncatedNormal'))\n",
        "model.add(MaxPooling2D(pool_size=(2, 2)))\n",
        "model.add(Flatten())\n",
        "model.add(Dense(256, activation='relu', kernel_initializer='TruncatedNormal'))\n",
        "model.add(Dropout(0.2))\n",
        "model.add(Dense(128, activation='relu', kernel_initializer='TruncatedNormal'))\n",
        "model.add(Dropout(0.2))\n",
        "model.add(Dense(1, activation='sigmoid', kernel_initializer='TruncatedNormal'))\n",
        "model.compile(loss='binary_crossentropy', optimizer=Adam(lr=lr_init), metrics=['accuracy'])\n",
        "model.summary()"
      ],
      "execution_count": null,
      "outputs": [
        {
          "output_type": "stream",
          "text": [
            "Model: \"sequential\"\n",
            "_________________________________________________________________\n",
            "Layer (type)                 Output Shape              Param #   \n",
            "=================================================================\n",
            "conv2d (Conv2D)              (None, 32, 32, 16)        304       \n",
            "_________________________________________________________________\n",
            "conv2d_1 (Conv2D)            (None, 32, 32, 16)        2320      \n",
            "_________________________________________________________________\n",
            "max_pooling2d (MaxPooling2D) (None, 16, 16, 16)        0         \n",
            "_________________________________________________________________\n",
            "conv2d_2 (Conv2D)            (None, 16, 16, 32)        4640      \n",
            "_________________________________________________________________\n",
            "conv2d_3 (Conv2D)            (None, 16, 16, 32)        9248      \n",
            "_________________________________________________________________\n",
            "max_pooling2d_1 (MaxPooling2 (None, 8, 8, 32)          0         \n",
            "_________________________________________________________________\n",
            "flatten (Flatten)            (None, 2048)              0         \n",
            "_________________________________________________________________\n",
            "dense (Dense)                (None, 256)               524544    \n",
            "_________________________________________________________________\n",
            "dropout (Dropout)            (None, 256)               0         \n",
            "_________________________________________________________________\n",
            "dense_1 (Dense)              (None, 128)               32896     \n",
            "_________________________________________________________________\n",
            "dropout_1 (Dropout)          (None, 128)               0         \n",
            "_________________________________________________________________\n",
            "dense_2 (Dense)              (None, 1)                 129       \n",
            "=================================================================\n",
            "Total params: 574,081\n",
            "Trainable params: 574,081\n",
            "Non-trainable params: 0\n",
            "_________________________________________________________________\n"
          ],
          "name": "stdout"
        }
      ]
    },
    {
      "cell_type": "markdown",
      "metadata": {
        "id": "bsQWFD0M86pA"
      },
      "source": [
        "## Train the Model"
      ]
    },
    {
      "cell_type": "code",
      "metadata": {
        "id": "ZGuyM25L7uc0",
        "outputId": "238fb098-90f0-4c97-be37-203e7f4e4ad2",
        "colab": {
          "base_uri": "https://localhost:8080/",
          "height": 697
        }
      },
      "source": [
        "reduce_lr = ReduceLROnPlateau(monitor='val_loss', factor=0.2, patience=2, min_lr=1.e-6)\n",
        "history=model.fit(X_train, y_train,\\\n",
        "        batch_size=batch_size,\\\n",
        "        epochs=epochs,\\\n",
        "        validation_data=(X_valid, y_valid),\\\n",
        "        callbacks=[reduce_lr],\\\n",
        "        verbose=1, shuffle=True)"
      ],
      "execution_count": null,
      "outputs": [
        {
          "output_type": "stream",
          "text": [
            "Epoch 1/20\n",
            "32/32 [==============================] - 1s 18ms/step - loss: 0.6933 - accuracy: 0.4824 - val_loss: 0.6931 - val_accuracy: 0.5000\n",
            "Epoch 2/20\n",
            "32/32 [==============================] - 0s 11ms/step - loss: 0.6932 - accuracy: 0.4897 - val_loss: 0.6931 - val_accuracy: 0.5000\n",
            "Epoch 3/20\n",
            "32/32 [==============================] - 0s 11ms/step - loss: 0.6931 - accuracy: 0.4951 - val_loss: 0.6928 - val_accuracy: 0.5000\n",
            "Epoch 4/20\n",
            "32/32 [==============================] - 0s 10ms/step - loss: 0.6912 - accuracy: 0.5205 - val_loss: 0.6917 - val_accuracy: 0.5234\n",
            "Epoch 5/20\n",
            "32/32 [==============================] - 0s 10ms/step - loss: 0.6838 - accuracy: 0.5601 - val_loss: 0.6872 - val_accuracy: 0.5620\n",
            "Epoch 6/20\n",
            "32/32 [==============================] - 0s 10ms/step - loss: 0.6766 - accuracy: 0.5811 - val_loss: 0.6849 - val_accuracy: 0.5547\n",
            "Epoch 7/20\n",
            "32/32 [==============================] - 0s 10ms/step - loss: 0.6732 - accuracy: 0.5859 - val_loss: 0.6858 - val_accuracy: 0.5664\n",
            "Epoch 8/20\n",
            "32/32 [==============================] - 0s 10ms/step - loss: 0.6648 - accuracy: 0.6118 - val_loss: 0.6814 - val_accuracy: 0.5737\n",
            "Epoch 9/20\n",
            "32/32 [==============================] - 0s 10ms/step - loss: 0.6587 - accuracy: 0.6138 - val_loss: 0.6726 - val_accuracy: 0.5762\n",
            "Epoch 10/20\n",
            "32/32 [==============================] - 0s 10ms/step - loss: 0.6476 - accuracy: 0.6396 - val_loss: 0.6677 - val_accuracy: 0.5942\n",
            "Epoch 11/20\n",
            "32/32 [==============================] - 0s 10ms/step - loss: 0.6400 - accuracy: 0.6440 - val_loss: 0.6727 - val_accuracy: 0.5845\n",
            "Epoch 12/20\n",
            "32/32 [==============================] - 0s 10ms/step - loss: 0.6250 - accuracy: 0.6553 - val_loss: 0.6619 - val_accuracy: 0.5996\n",
            "Epoch 13/20\n",
            "32/32 [==============================] - 0s 10ms/step - loss: 0.6261 - accuracy: 0.6533 - val_loss: 0.6689 - val_accuracy: 0.5869\n",
            "Epoch 14/20\n",
            "32/32 [==============================] - 0s 10ms/step - loss: 0.6041 - accuracy: 0.6802 - val_loss: 0.6768 - val_accuracy: 0.6060\n",
            "Epoch 15/20\n",
            "32/32 [==============================] - 0s 10ms/step - loss: 0.5818 - accuracy: 0.6958 - val_loss: 0.7013 - val_accuracy: 0.5923\n",
            "Epoch 16/20\n",
            "32/32 [==============================] - 0s 10ms/step - loss: 0.5745 - accuracy: 0.7046 - val_loss: 0.7024 - val_accuracy: 0.5845\n",
            "Epoch 17/20\n",
            "32/32 [==============================] - 0s 10ms/step - loss: 0.5665 - accuracy: 0.7051 - val_loss: 0.7022 - val_accuracy: 0.5845\n",
            "Epoch 18/20\n",
            "32/32 [==============================] - 0s 10ms/step - loss: 0.5659 - accuracy: 0.7158 - val_loss: 0.7026 - val_accuracy: 0.5894\n",
            "Epoch 19/20\n",
            "32/32 [==============================] - 0s 10ms/step - loss: 0.5647 - accuracy: 0.7085 - val_loss: 0.7029 - val_accuracy: 0.5879\n",
            "Epoch 20/20\n",
            "32/32 [==============================] - 0s 10ms/step - loss: 0.5624 - accuracy: 0.7178 - val_loss: 0.7037 - val_accuracy: 0.5850\n"
          ],
          "name": "stdout"
        }
      ]
    },
    {
      "cell_type": "markdown",
      "metadata": {
        "id": "oLoN43278_-j"
      },
      "source": [
        "## Evaluate the Model"
      ]
    },
    {
      "cell_type": "code",
      "metadata": {
        "id": "ekuQLYas7xh5",
        "outputId": "2362b8d8-4a66-4afc-b69e-1d2bad3e4ea1",
        "colab": {
          "base_uri": "https://localhost:8080/",
          "height": 153
        }
      },
      "source": [
        "# Evaluate on validation set\n",
        "score = model.evaluate(X_valid, y_valid, verbose=1)\n",
        "print('\\nValidation loss / accuracy: %0.4f / %0.4f'%(score[0], score[1]))\n",
        "y_pred = model.predict(X_valid)\n",
        "fpr, tpr, _ = roc_curve(y_valid, y_pred)\n",
        "roc_auc = auc(fpr, tpr)\n",
        "print('Validation ROC AUC:', roc_auc)\n",
        "\n",
        "# Evaluate on test set\n",
        "score = model.evaluate(X_test, y_test, verbose=1)\n",
        "print('\\nTest loss / accuracy: %0.4f / %0.4f'%(score[0], score[1]))\n",
        "y_pred = model.predict(X_test)\n",
        "fpr, tpr, _ = roc_curve(y_test, y_pred)\n",
        "roc_auc = auc(fpr, tpr)\n",
        "print('Test ROC AUC:', roc_auc)"
      ],
      "execution_count": null,
      "outputs": [
        {
          "output_type": "stream",
          "text": [
            "64/64 [==============================] - 0s 3ms/step - loss: 0.7037 - accuracy: 0.5850\n",
            "\n",
            "Validation loss / accuracy: 0.7037 / 0.5850\n",
            "Validation ROC AUC: 0.6262407302856445\n",
            "64/64 [==============================] - 0s 3ms/step - loss: 0.7225 - accuracy: 0.5776\n",
            "\n",
            "Test loss / accuracy: 0.7225 / 0.5776\n",
            "Test ROC AUC: 0.6073174476623535\n"
          ],
          "name": "stdout"
        }
      ]
    },
    {
      "cell_type": "code",
      "metadata": {
        "id": "kmSRYI0R72Wn",
        "outputId": "4cf0fdcf-26a7-4bf8-a1d4-f15338658062",
        "colab": {
          "base_uri": "https://localhost:8080/",
          "height": 295
        }
      },
      "source": [
        "plt.plot([0, 1], [0, 1], 'k--')\n",
        "#plt.legend(loc=2, prop={'size': 15})\n",
        "plt.plot(fpr, tpr, label='Model 1 (ROC-AUC = {:.3f})'.format(roc_auc))\n",
        "plt.xlabel('False positive rate')\n",
        "plt.ylabel('True positive rate')\n",
        "plt.title('ROC curve')\n",
        "plt.legend(loc='best')\n",
        "plt.show()"
      ],
      "execution_count": null,
      "outputs": [
        {
          "output_type": "display_data",
          "data": {
            "image/png": "[encoded data removed]",
            "text/plain": [
              "<Figure size 432x288 with 1 Axes>"
            ]
          },
          "metadata": {
            "tags": [],
            "needs_background": "light"
          }
        }
      ]
    },
    {
      "cell_type": "code",
      "metadata": {
        "id": "ek82eKnpBuI8"
      },
      "source": [
        ""
      ],
      "execution_count": null,
      "outputs": []
    }
  ]
}